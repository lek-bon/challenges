{
  "nbformat": 4,
  "nbformat_minor": 0,
  "metadata": {
    "colab": {
      "name": "Palindrome.ipynb",
      "provenance": [],
      "authorship_tag": "ABX9TyPij0nXxc8fvtiKCuEju96G"
    },
    "kernelspec": {
      "name": "python3",
      "display_name": "Python 3"
    },
    "language_info": {
      "name": "python"
    }
  },
  "cells": [
    {
      "cell_type": "code",
      "execution_count": 1,
      "metadata": {
        "id": "Saq4_7K3yNhd"
      },
      "outputs": [],
      "source": [
        "class Solution:\n",
        "    def isPalindrome(self, x: int) -> bool:\n",
        "        # If x is a negative number it is not a palindrome\n",
        "        # If x % 10 = 0, in order for it to be a palindrome the first digit should also be 0\n",
        "        if x < 0 or (x > 0 and x%10 == 0):   \n",
        "            return False\n",
        "\n",
        "        reversedNum = 0\n",
        "        while x > reversedNum:\n",
        "            reversedNum = reversedNum * 10 + x % 10\n",
        "            x = x // 10\n",
        "\n",
        "        # If x is equal to reversed number then it is a palindrome\n",
        "        # If x has odd number of digits, dicard the middle digit before comparing with x\n",
        "        # Example, if x = 23132, at the end of for loop x = 23 and reversedNum = 231\n",
        "        # So, reversedNum/10 = 23, which is equal to x\n",
        "        \n",
        "        return True if (x == reversedNum or x == reversedNum // 10) else False"
      ]
    }
  ]
}