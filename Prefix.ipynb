{
  "nbformat": 4,
  "nbformat_minor": 0,
  "metadata": {
    "colab": {
      "name": "Prefix.ipynb",
      "provenance": [],
      "authorship_tag": "ABX9TyP4j12Ssib3Ak2UVEkRHGWY",
      "include_colab_link": true
    },
    "kernelspec": {
      "name": "python3",
      "display_name": "Python 3"
    },
    "language_info": {
      "name": "python"
    }
  },
  "cells": [
    {
      "cell_type": "markdown",
      "metadata": {
        "id": "view-in-github",
        "colab_type": "text"
      },
      "source": [
        "<a href=\"https://colab.research.google.com/github/lek-bon/challenges/blob/main/Prefix.ipynb\" target=\"_parent\"><img src=\"https://colab.research.google.com/assets/colab-badge.svg\" alt=\"Open In Colab\"/></a>"
      ]
    },
    {
      "cell_type": "code",
      "source": [
        "from typing import List"
      ],
      "metadata": {
        "id": "uY9hT3pjKMoc"
      },
      "execution_count": 8,
      "outputs": []
    },
    {
      "cell_type": "code",
      "execution_count": 9,
      "metadata": {
        "id": "khs3KFvZJm4z"
      },
      "outputs": [],
      "source": [
        "class Solution:\n",
        "\tdef longestCommonPrefix(self, strs: List[str]) -> str:\n",
        "\t\toutput = ''\n",
        "\n",
        "\t\t#min(strs, key=len) will give the shorted string in array\n",
        "\t\tfor j in range(len(min(strs, key=len))):\n",
        "\n",
        "\t\t\t# get list of first letter\n",
        "\t\t\tcurrent = [i[j] for i in strs]\n",
        "\n",
        "\t\t\t# check all elements are the same in the array\n",
        "\t\t\tif all(item==current[0] for item in current):\n",
        "\t\t\t\toutput += current[0]\n",
        "\t\t\telse:\n",
        "\t\t\t\tbreak\n",
        "\t\treturn output"
      ]
    }
  ]
}