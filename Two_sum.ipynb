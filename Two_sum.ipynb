{
  "nbformat": 4,
  "nbformat_minor": 0,
  "metadata": {
    "colab": {
      "name": "Two_sum.ipynb",
      "provenance": [],
      "authorship_tag": "ABX9TyOgEPpHzMyBJgrtPgm83EdR"
    },
    "kernelspec": {
      "name": "python3",
      "display_name": "Python 3"
    },
    "language_info": {
      "name": "python"
    }
  },
  "cells": [
    {
      "cell_type": "code",
      "execution_count": 7,
      "metadata": {
        "id": "jk0UyLbM9vY6"
      },
      "outputs": [],
      "source": [
        "from typing import List\n",
        "\n",
        "class Solution:\n",
        "    def twoSum(self, nums: List[int], target: int) -> List[int]:\n",
        "        prevMap = {} \n",
        "    \n",
        "        for i,n in enumerate(nums):\n",
        "            diff = target - n\n",
        "            if diff in prevMap:\n",
        "                return [prevMap[diff], i]\n",
        "            prevMap[n] = i\n",
        "        return"
      ]
    }
  ]
}