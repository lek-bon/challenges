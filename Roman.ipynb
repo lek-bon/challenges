{
  "nbformat": 4,
  "nbformat_minor": 0,
  "metadata": {
    "colab": {
      "name": "Roman.ipynb",
      "provenance": [],
      "authorship_tag": "ABX9TyOpTS1r0Hh0IhV6i55PDpAP",
      "include_colab_link": true
    },
    "kernelspec": {
      "name": "python3",
      "display_name": "Python 3"
    },
    "language_info": {
      "name": "python"
    }
  },
  "cells": [
    {
      "cell_type": "markdown",
      "metadata": {
        "id": "view-in-github",
        "colab_type": "text"
      },
      "source": [
        "<a href=\"https://colab.research.google.com/github/lek-bon/challenges/blob/main/Roman.ipynb\" target=\"_parent\"><img src=\"https://colab.research.google.com/assets/colab-badge.svg\" alt=\"Open In Colab\"/></a>"
      ]
    },
    {
      "cell_type": "code",
      "execution_count": 2,
      "metadata": {
        "id": "yqdJtDi-rfpW"
      },
      "outputs": [],
      "source": [
        "class Solution:\n",
        "    def romanToInt(self, s: str) -> int:\n",
        "        roman = {\n",
        "            \"I\": 1,\n",
        "            \"V\": 5,\n",
        "            \"X\": 10,\n",
        "            \"L\": 50,\n",
        "            \"C\": 100,\n",
        "            \"D\": 500,\n",
        "            \"M\": 1000\n",
        "        }\n",
        "        \n",
        "        out = roman[s[-1]]\n",
        "        \n",
        "        for i in range(len(s)-2, -1, -1):\n",
        "            if roman[s[i]] < roman[s[i+1]]:\n",
        "                out -= roman[s[i]]\n",
        "            else:\n",
        "                out += roman[s[i]]\n",
        "        \n",
        "        return out"
      ]
    }
  ]
}