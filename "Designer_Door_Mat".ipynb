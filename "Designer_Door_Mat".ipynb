{
  "nbformat": 4,
  "nbformat_minor": 0,
  "metadata": {
    "colab": {
      "name": "Копия блокнота \"Designer Door Mat\"",
      "provenance": [],
      "authorship_tag": "ABX9TyOOBlr1AGM2AXiDcW2QlrWu",
      "include_colab_link": true
    },
    "kernelspec": {
      "name": "python3",
      "display_name": "Python 3"
    },
    "language_info": {
      "name": "python"
    }
  },
  "cells": [
    {
      "cell_type": "markdown",
      "metadata": {
        "id": "view-in-github",
        "colab_type": "text"
      },
      "source": [
        "<a href=\"https://colab.research.google.com/github/lek-bon/challenges/blob/main/%22Designer_Door_Mat%22.ipynb\" target=\"_parent\"><img src=\"https://colab.research.google.com/assets/colab-badge.svg\" alt=\"Open In Colab\"/></a>"
      ]
    },
    {
      "cell_type": "code",
      "execution_count": null,
      "metadata": {
        "colab": {
          "base_uri": "https://localhost:8080/"
        },
        "id": "0JSiqXEq6ThU",
        "outputId": "72c72412-0fa9-46b8-f4c2-32b3b055134b"
      },
      "outputs": [
        {
          "output_type": "stream",
          "name": "stdout",
          "text": [
            "12 36\n",
            "----------------.|.----------------\n",
            "-------------.|..|..|.-------------\n",
            "----------.|..|..|..|..|.----------\n",
            "-------.|..|..|..|..|..|..|.-------\n",
            "----.|..|..|..|..|..|..|..|..|.----\n",
            "-.|..|..|..|..|..|..|..|..|..|..|.-\n",
            "--------------WELCOME--------------\n",
            "-.|..|..|..|..|..|..|..|..|..|..|.-\n",
            "----.|..|..|..|..|..|..|..|..|.----\n",
            "-------.|..|..|..|..|..|..|.-------\n",
            "----------.|..|..|..|..|.----------\n",
            "-------------.|..|..|.-------------\n",
            "----------------.|.----------------\n",
            "\n"
          ]
        }
      ],
      "source": [
        "a, b = input().split()\n",
        "a = int(a)\n",
        "b=int(b)\n",
        "\n",
        "for i in range(0, a//2):\n",
        "    print ('-'*((b-3*(2*i+1))//2)+'.|.'*(2*i+1) + '-'*((b-3*(2*i+1))//2), end='\\n')\n",
        "print('-'*((b-7)//2)+'WELCOME'+'-'*((b-7)//2))\n",
        "for j in range(0, a//2)[::-1]:\n",
        "  print ('-'*((b-3*(2*j+1))//2) + '.|.'*(2*j+1) +'-'*((b-3*(2*j+1))//2), end='\\n')\n",
        "print()"
      ]
    }
  ]
}